{
 "cells": [
  {
   "cell_type": "markdown",
   "metadata": {},
   "source": [
    "## Accessing TESS Data Programmatically: A MAST case study"
   ]
  },
  {
   "cell_type": "code",
   "execution_count": 1,
   "metadata": {},
   "outputs": [
    {
     "name": "stdout",
     "output_type": "stream",
     "text": [
      "Collecting astrocut\n",
      "\u001b[?25l  Downloading https://files.pythonhosted.org/packages/f2/70/71614183a3293a7077f6a2a56ccb078d7892e8ed4765f3c5c51dbe8ba8c7/astrocut-0.4.tar.gz (226kB)\n",
      "\u001b[K     |████████████████████████████████| 235kB 4.8MB/s eta 0:00:01\n",
      "\u001b[?25hRequirement already satisfied: astropy>=3.0 in /usr/local/lib/python3.6/site-packages (from astrocut) (3.1.2)\n",
      "Requirement already satisfied: scipy in /usr/local/lib/python3.6/site-packages (from astrocut) (1.2.1)\n",
      "Requirement already satisfied: numpy>=1.13.0 in /Users/Oliver/Library/Python/3.6/lib/python/site-packages (from astropy>=3.0->astrocut) (1.16.4)\n",
      "Building wheels for collected packages: astrocut\n",
      "  Building wheel for astrocut (setup.py) ... \u001b[?25ldone\n",
      "\u001b[?25h  Stored in directory: /Users/Oliver/Library/Caches/pip/wheels/e1/76/fd/a31ff02b334848a0ccc026bf1359a90963ac0b90a632478d63\n",
      "Successfully built astrocut\n",
      "Installing collected packages: astrocut\n",
      "\u001b[33m  WARNING: The script astropy-package-template-example is installed in '/Users/Oliver/Library/Python/3.6/bin' which is not on PATH.\n",
      "  Consider adding this directory to PATH or, if you prefer to suppress this warning, use --no-warn-script-location.\u001b[0m\n",
      "Successfully installed astrocut-0.4\n"
     ]
    }
   ],
   "source": [
    "!pip3 install astrocut --user"
   ]
  },
  {
   "cell_type": "code",
   "execution_count": 6,
   "metadata": {},
   "outputs": [],
   "source": [
    "import astroquery\n",
    "import numpy as np\n",
    "import matplotlib.pyplot as plt"
   ]
  },
  {
   "cell_type": "markdown",
   "metadata": {},
   "source": [
    "I couldn't keep up so I'll run through it later"
   ]
  },
  {
   "cell_type": "markdown",
   "metadata": {},
   "source": [
    "Can import TASOC lightcurves directly by setting project='TESS' and obs_collection='HLSP' (for high level science product)."
   ]
  },
  {
   "cell_type": "markdown",
   "metadata": {},
   "source": [
    "You can slice the downloaded product to only download particular files (e.g. we don't want the auxiliary files)"
   ]
  },
  {
   "cell_type": "markdown",
   "metadata": {},
   "source": [
    "Notebook has a good bokeh example."
   ]
  },
  {
   "cell_type": "markdown",
   "metadata": {},
   "source": [
    "New features on the github astroquery. `resolve_object` gives you a coordinate for a TIC ID. But in the next release we can get a cutout for a TICID, no need to provide coordinates."
   ]
  },
  {
   "cell_type": "markdown",
   "metadata": {},
   "source": [
    "Examples shows a video of a TESS Cutout, identifies another pulsating star in the image and then goes to explore that."
   ]
  },
  {
   "cell_type": "markdown",
   "metadata": {},
   "source": [
    "You can use the WCS from astroquery to set as the projection in matplotlib (!)"
   ]
  },
  {
   "cell_type": "code",
   "execution_count": 8,
   "metadata": {},
   "outputs": [
    {
     "name": "stderr",
     "output_type": "stream",
     "text": [
      "No data found for target \"TIC14814317\".\n"
     ]
    }
   ],
   "source": [
    "ticid = 'TIC14814317'\n",
    "import lightkurve as lk\n",
    "datalist = lk.search_lightcurvefile(ticid)"
   ]
  },
  {
   "cell_type": "code",
   "execution_count": 9,
   "metadata": {},
   "outputs": [
    {
     "data": {
      "text/plain": [
       "SearchResult containing 0 data products."
      ]
     },
     "execution_count": 9,
     "metadata": {},
     "output_type": "execute_result"
    }
   ],
   "source": [
    "datalist"
   ]
  },
  {
   "cell_type": "code",
   "execution_count": null,
   "metadata": {},
   "outputs": [],
   "source": []
  }
 ],
 "metadata": {
  "kernelspec": {
   "display_name": "Python 3",
   "language": "python",
   "name": "python3"
  },
  "language_info": {
   "codemirror_mode": {
    "name": "ipython",
    "version": 3
   },
   "file_extension": ".py",
   "mimetype": "text/x-python",
   "name": "python",
   "nbconvert_exporter": "python",
   "pygments_lexer": "ipython3",
   "version": "3.6.5"
  }
 },
 "nbformat": 4,
 "nbformat_minor": 2
}
